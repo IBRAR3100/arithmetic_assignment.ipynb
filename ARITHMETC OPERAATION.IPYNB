{
 "cells": [
  {
   "cell_type": "markdown",
   "id": "ceee6f60",
   "metadata": {},
   "source": [
    "ARITHMETIC OPERATIONS ARE BASIC MATH OPERATION LIKE ADDITION,SUBTRACTION,MULTIPLICATION,DIVISION,FLOOR  DIVISION,MODULUS(REMAINDER),EXPONENT(POWER)\n",
    "BODMAS( BRACKETS,ORDER(POWER),DIVISION,MULTIPLICATION,ADDITION,SUBTRACTION,) FOLLOW HIM "
   ]
  },
  {
   "cell_type": "markdown",
   "id": "39a88ba0",
   "metadata": {},
   "source": [
    "ADDITION"
   ]
  },
  {
   "cell_type": "code",
   "execution_count": 1,
   "id": "b8caf772",
   "metadata": {},
   "outputs": [
    {
     "name": "stdout",
     "output_type": "stream",
     "text": [
      "655\n"
     ]
    }
   ],
   "source": [
    "x = 230\n",
    "y = 425\n",
    "result = x + y\n",
    "print(result)"
   ]
  },
  {
   "cell_type": "markdown",
   "id": "ee7d7349",
   "metadata": {},
   "source": [
    "SUBTRACTION"
   ]
  },
  {
   "cell_type": "code",
   "execution_count": 3,
   "id": "d644d04b",
   "metadata": {},
   "outputs": [
    {
     "name": "stdout",
     "output_type": "stream",
     "text": [
      "230\n"
     ]
    }
   ],
   "source": [
    "a = 850\n",
    "b = 620\n",
    "result = a - b \n",
    "print(result)"
   ]
  },
  {
   "cell_type": "markdown",
   "id": "5e782cd0",
   "metadata": {},
   "source": [
    "MULTIPLICATION \n"
   ]
  },
  {
   "cell_type": "code",
   "execution_count": 4,
   "id": "0d437ad3",
   "metadata": {},
   "outputs": [
    {
     "name": "stdout",
     "output_type": "stream",
     "text": [
      "1155\n"
     ]
    }
   ],
   "source": [
    "length = 55\n",
    "width = 21\n",
    "area = length * width\n",
    "print(area)"
   ]
  },
  {
   "cell_type": "markdown",
   "id": "81a5d925",
   "metadata": {},
   "source": [
    "DIVISION"
   ]
  },
  {
   "cell_type": "code",
   "execution_count": 5,
   "id": "792ed83f",
   "metadata": {},
   "outputs": [
    {
     "name": "stdout",
     "output_type": "stream",
     "text": [
      "14.285714285714286\n"
     ]
    }
   ],
   "source": [
    "total = 100\n",
    "parts = 7\n",
    "result = total / parts\n",
    "print(result)"
   ]
  },
  {
   "cell_type": "markdown",
   "id": "a9648093",
   "metadata": {},
   "source": [
    "floor division without decmials "
   ]
  },
  {
   "cell_type": "code",
   "execution_count": 6,
   "id": "d40f14c5",
   "metadata": {},
   "outputs": [
    {
     "name": "stdout",
     "output_type": "stream",
     "text": [
      "27\n"
     ]
    }
   ],
   "source": [
    "score = 300\n",
    "player = 11\n",
    "result = score // player\n",
    "print(result)"
   ]
  },
  {
   "cell_type": "markdown",
   "id": "6f7c25bb",
   "metadata": {},
   "source": [
    "MODULUS % (REMAINDER)"
   ]
  },
  {
   "cell_type": "code",
   "execution_count": 17,
   "id": "c6f5601a",
   "metadata": {},
   "outputs": [
    {
     "name": "stdout",
     "output_type": "stream",
     "text": [
      "2\n"
     ]
    }
   ],
   "source": [
    "subject = 10\n",
    "number = 4\n",
    "result = subject % number\n",
    "print(result)"
   ]
  },
  {
   "cell_type": "markdown",
   "id": "db26e095",
   "metadata": {},
   "source": [
    "EXPONENT(POWER)**"
   ]
  },
  {
   "cell_type": "code",
   "execution_count": 19,
   "id": "385c173f",
   "metadata": {},
   "outputs": [
    {
     "name": "stdout",
     "output_type": "stream",
     "text": [
      "59049\n"
     ]
    }
   ],
   "source": [
    "a = 9\n",
    "b = 5\n",
    "result = a ** b\n",
    "print(result)"
   ]
  },
  {
   "cell_type": "markdown",
   "id": "d9bc67df",
   "metadata": {},
   "source": [
    "all arithmetic operation in one table "
   ]
  },
  {
   "cell_type": "code",
   "execution_count": null,
   "id": "e975f0b1",
   "metadata": {},
   "outputs": [
    {
     "name": "stdout",
     "output_type": "stream",
     "text": [
      "7 + 10 = 17\n"
     ]
    }
   ],
   "source": [
    "#addition\n",
    "a = 7\n",
    "b = 10\n",
    "print(f\"{a} + {b} = {a+b}\")\n",
    "print(f\"{a} - {b} = {a-b}\")\n"
   ]
  }
 ],
 "metadata": {
  "kernelspec": {
   "display_name": "Python 3",
   "language": "python",
   "name": "python3"
  },
  "language_info": {
   "codemirror_mode": {
    "name": "ipython",
    "version": 3
   },
   "file_extension": ".py",
   "mimetype": "text/x-python",
   "name": "python",
   "nbconvert_exporter": "python",
   "pygments_lexer": "ipython3",
   "version": "3.12.9"
  }
 },
 "nbformat": 4,
 "nbformat_minor": 5
}
